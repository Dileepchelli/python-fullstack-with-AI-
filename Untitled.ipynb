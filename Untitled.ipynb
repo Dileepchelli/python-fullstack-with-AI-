{
 "cells": [
  {
   "cell_type": "code",
   "execution_count": 1,
   "id": "135c6066-990e-4f98-8913-62ee55001da2",
   "metadata": {},
   "outputs": [],
   "source": [
    "dataset_path = 'dataset'  # Jupyter sees this as relative to C:\\Users\\Admin\\DileepProject\n"
   ]
  },
  {
   "cell_type": "code",
   "execution_count": 2,
   "id": "a7e6ae14-6350-4c6b-b813-c6a4f592f8c6",
   "metadata": {},
   "outputs": [],
   "source": [
    "from tensorflow.keras.models import load_model\n",
    "\n",
    "model = load_model('model/fingerprint_cnn_model.keras')\n"
   ]
  },
  {
   "cell_type": "code",
   "execution_count": null,
   "id": "574257ea-15a4-4575-98ea-bb5868b1dccc",
   "metadata": {},
   "outputs": [],
   "source": []
  }
 ],
 "metadata": {
  "kernelspec": {
   "display_name": "Python 3 (ipykernel)",
   "language": "python",
   "name": "python3"
  },
  "language_info": {
   "codemirror_mode": {
    "name": "ipython",
    "version": 3
   },
   "file_extension": ".py",
   "mimetype": "text/x-python",
   "name": "python",
   "nbconvert_exporter": "python",
   "pygments_lexer": "ipython3",
   "version": "3.12.10"
  }
 },
 "nbformat": 4,
 "nbformat_minor": 5
}
